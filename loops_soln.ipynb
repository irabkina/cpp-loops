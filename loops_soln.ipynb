{
 "cells": [
  {
   "cell_type": "markdown",
   "metadata": {},
   "source": [
    "# Teaching Loops With Cards and C++\n",
    "\n",
    "<img src=\"https://images-na.ssl-images-amazon.com/images/I/51rvmC5CtSL._SL1000_.jpg\" alt=\"Python Cards\" style=\"width: 300px;\"/>"
   ]
  },
  {
   "cell_type": "markdown",
   "metadata": {},
   "source": [
    "## Create decks of cards"
   ]
  },
  {
   "cell_type": "code",
   "execution_count": 1,
   "metadata": {},
   "outputs": [],
   "source": [
    "#include \"card.h\""
   ]
  },
  {
   "cell_type": "code",
   "execution_count": 2,
   "metadata": {},
   "outputs": [],
   "source": [
    "// Create a single card using its suit and rank\n",
    "Card c(\"hearts\",\"A\");"
   ]
  },
  {
   "cell_type": "code",
   "execution_count": 3,
   "metadata": {},
   "outputs": [
    {
     "name": "stdout",
     "output_type": "stream",
     "text": [
      "♥A"
     ]
    }
   ],
   "source": [
    "// Print Card object\n",
    "cout << c;"
   ]
  },
  {
   "cell_type": "code",
   "execution_count": 4,
   "metadata": {},
   "outputs": [],
   "source": [
    "// Create a full ordered deck of cards\n",
    "auto deck = full_deck();"
   ]
  },
  {
   "cell_type": "code",
   "execution_count": 5,
   "metadata": {},
   "outputs": [
    {
     "name": "stdout",
     "output_type": "stream",
     "text": [
      "♥A ♥2 ♥3 ♥4 ♥5 ♥6 ♥7 ♥8 ♥9 ♥10 ♥J ♥Q ♥K ♦A ♦2 ♦3 ♦4 ♦5 ♦6 ♦7 ♦8 ♦9 ♦10 ♦J ♦Q ♦K ♣A ♣2 ♣3 ♣4 ♣5 ♣6 ♣7 ♣8 ♣9 ♣10 ♣J ♣Q ♣K ♠A ♠2 ♠3 ♠4 ♠5 ♠6 ♠7 ♠8 ♠9 ♠10 ♠J ♠Q ♠K "
     ]
    }
   ],
   "source": [
    "for (int i=0; i < deck.size(); i++) {\n",
    "    cout << deck[i] << \" \";\n",
    "}"
   ]
  },
  {
   "cell_type": "code",
   "execution_count": 6,
   "metadata": {},
   "outputs": [
    {
     "name": "stdout",
     "output_type": "stream",
     "text": [
      "♦6 ♦K ♠6 ♦9 ♦J ♥6 ♠A ♦A ♥J ♥2 ♥7 ♥A ♥8 ♦2 ♠3 ♣J ♠8 ♦5 ♠Q ♠5 ♥K ♥Q ♣3 ♣9 ♣8 ♣K ♠7 ♣Q ♥4 ♥5 ♠10 ♠J ♠4 ♥10 ♦Q ♠9 ♣2 ♦3 ♠2 ♣4 ♦8 ♦10 ♥3 ♣5 ♣A ♠K ♣6 ♦7 ♥9 ♣10 ♣7 ♦4 "
     ]
    }
   ],
   "source": [
    "// Shuffle deck and see the result\n",
    "shuffle_deck(deck);\n",
    "for (int i=0; i < deck.size(); i++) {\n",
    "    cout << deck[i] << \" \";\n",
    "}"
   ]
  },
  {
   "cell_type": "code",
   "execution_count": 7,
   "metadata": {},
   "outputs": [
    {
     "name": "stdout",
     "output_type": "stream",
     "text": [
      "♣5 ♠K ♦4 ♦Q ♠2 ♦5 ♣A ♠6 ♠3 ♣J "
     ]
    }
   ],
   "source": [
    "deck = small_random_deck(10);\n",
    "for (int i=0; i < deck.size(); i++) {\n",
    "    cout << deck[i] << \" \";\n",
    "}"
   ]
  },
  {
   "cell_type": "code",
   "execution_count": 8,
   "metadata": {},
   "outputs": [
    {
     "name": "stdout",
     "output_type": "stream",
     "text": [
      "♦A ♥4 "
     ]
    }
   ],
   "source": [
    "// Create a deck from the cards you have in your hand\n",
    "// ** REPLACE WITH YOUR OWN DECK **\n",
    "auto deck2 = deck_from_tuples({\n",
    "    make_tuple(\"diamonds\", \"A\"),\n",
    "    make_tuple(\"hearts\", \"4\")\n",
    "});\n",
    "for (int i=0; i < deck2.size(); i++) {\n",
    "    cout << deck2[i] << \" \";\n",
    "}"
   ]
  },
  {
   "cell_type": "markdown",
   "metadata": {},
   "source": [
    "## 1. Find the highest value Heart in your deck"
   ]
  },
  {
   "cell_type": "code",
   "execution_count": 10,
   "metadata": {},
   "outputs": [],
   "source": [
    "/**\n",
    " * Finds the highest ranked hearts card in the deck\n",
    " *\n",
    " * @param deck Vector of Card objects to be searched in\n",
    " */\n",
    "Card find_highest_heart(vector<Card> deck){\n",
    "    // prepare variable to store intermediate answers\n",
    "    int max_heart_index = -1;\n",
    "    \n",
    "    // loop over all the cards in you deck\n",
    "    // ** ADD CODE HERE **\n",
    "    for (int i=0; i<deck.size();i++){\n",
    "        // check the suit\n",
    "        if (deck[i].suit==\"hearts\"){\n",
    "            // the first heart is automatically the highest\n",
    "            if (max_heart_index==-1)\n",
    "                max_heart_index = i;\n",
    "            // otherwise, need to check if it's bigger than the previously seen heart\n",
    "            else if (deck[i] > deck[max_heart_index])\n",
    "                max_heart_index = i;\n",
    "        }\n",
    "    }\n",
    "    \n",
    "    return deck[max_heart_index];\n",
    "}"
   ]
  },
  {
   "cell_type": "code",
   "execution_count": 15,
   "metadata": {},
   "outputs": [
    {
     "name": "stdout",
     "output_type": "stream",
     "text": [
      "♥10"
     ]
    }
   ],
   "source": [
    "cout << find_highest_heart(deck);"
   ]
  },
  {
   "cell_type": "markdown",
   "metadata": {},
   "source": [
    "## 2. Find the highest value Diamond in your deck that is in an even location (index)\n",
    "\n",
    "The first card at the top is at location/index 0."
   ]
  },
  {
   "cell_type": "code",
   "execution_count": 12,
   "metadata": {},
   "outputs": [],
   "source": [
    "Card find_highest_even_diamond(vector<Card> deck){\n",
    "    // prepare variable to store intermediate answers\n",
    "    int highest_even_diamond_index = -1;\n",
    "    \n",
    "    // loop over the indices of your list\n",
    "    // ** ADD CODE HERE **\n",
    "    for (int i=0; i<deck.size(); i++){\n",
    "        if (i%2==0){\n",
    "            // the rest is the same as the hearts example above (but with diamonds)\n",
    "            if (deck[i].suit==\"diamonds\"){\n",
    "                if (highest_even_diamond_index==-1)\n",
    "                    highest_even_diamond_index = i;\n",
    "                else if (deck[i] > deck[highest_even_diamond_index])\n",
    "                    highest_even_diamond_index = i;\n",
    "            }\n",
    "        }\n",
    "    }\n",
    "    \n",
    "    if (highest_even_diamond_index==-1){\n",
    "        throw std::range_error(\"Card not found\");\n",
    "    }\n",
    "    return deck[highest_even_diamond_index];\n",
    "}"
   ]
  },
  {
   "cell_type": "code",
   "execution_count": 16,
   "metadata": {},
   "outputs": [
    {
     "name": "stdout",
     "output_type": "stream",
     "text": [
      "♦8"
     ]
    }
   ],
   "source": [
    "cout << find_highest_even_diamond(deck);"
   ]
  },
  {
   "cell_type": "markdown",
   "metadata": {},
   "source": [
    "## 3. Find the highest value card in the first seven of your deck."
   ]
  },
  {
   "cell_type": "code",
   "execution_count": 17,
   "metadata": {},
   "outputs": [],
   "source": [
    "Card find_highest_in_seven(vector<Card>& deck){\n",
    "    // prepare variable to store intermediate answers\n",
    "    int highest = -1;\n",
    "    \n",
    "    // loop over 7 indices                 \n",
    "    // ** ADD CODE HERE **\n",
    "    for (int i=0; i<7; i++){\n",
    "        // grab the card in that location\n",
    "        Card card = deck[i];// ** ADD CODE HERE **\n",
    "        \n",
    "        // first card is automatically highest\n",
    "        if (highest==-1)\n",
    "            highest = i;\n",
    "        // otherwise, needs to be bigger than previous highest card\n",
    "        else if (card > deck[highest])\n",
    "            highest = i;\n",
    "    }\n",
    "    \n",
    "    return deck[highest];\n",
    "}"
   ]
  },
  {
   "cell_type": "code",
   "execution_count": 18,
   "metadata": {},
   "outputs": [
    {
     "name": "stdout",
     "output_type": "stream",
     "text": [
      "♣J"
     ]
    }
   ],
   "source": [
    "cout << find_highest_in_seven(deck);"
   ]
  },
  {
   "cell_type": "markdown",
   "metadata": {},
   "source": [
    "## 4. Separate your cards into 3 piles. Count the number of cards in each pile."
   ]
  },
  {
   "cell_type": "code",
   "execution_count": 19,
   "metadata": {},
   "outputs": [],
   "source": [
    "array<vector<Card>, 3> piles{};"
   ]
  },
  {
   "cell_type": "code",
   "execution_count": 20,
   "metadata": {},
   "outputs": [],
   "source": [
    "piles[0] = small_random_deck(1);\n",
    "piles[1] = small_random_deck(5);\n",
    "piles[2] = small_random_deck(6);"
   ]
  },
  {
   "cell_type": "code",
   "execution_count": 25,
   "metadata": {},
   "outputs": [],
   "source": [
    "std::array<int,3> count_three_piles(array<vector<Card>, 3> piles){\n",
    "    // prepare to collect counts\n",
    "    \n",
    "    array<int,3> counts{};\n",
    "    \n",
    "    // loop over piles\n",
    "    // ** ADD CODE HERE **\n",
    "    for (int i=0; i<3; i++){\n",
    "        // set up counter for this pile\n",
    "        counts[i] = 0;\n",
    "        auto pile = piles[i];\n",
    "        \n",
    "        // loop over cards in this pile\n",
    "        // ** ADD CODE HERE **\n",
    "        for (int j=0; j<pile.size(); j++){\n",
    "            // count each card\n",
    "            counts[i]++;\n",
    "        }\n",
    "    }\n",
    "    return counts;\n",
    "}"
   ]
  },
  {
   "cell_type": "code",
   "execution_count": 26,
   "metadata": {},
   "outputs": [
    {
     "name": "stdout",
     "output_type": "stream",
     "text": [
      "1 5 6"
     ]
    }
   ],
   "source": [
    "auto result = count_three_piles(piles);\n",
    "cout << result[0] << \" \" << result[1] << \" \" << result[2];"
   ]
  },
  {
   "cell_type": "markdown",
   "metadata": {},
   "source": [
    "## 5. Look at the value of the top card in your deck. Put it on the bottom.  Forever."
   ]
  },
  {
   "cell_type": "code",
   "execution_count": 27,
   "metadata": {},
   "outputs": [],
   "source": [
    "void infinite_loop(vector<Card> deck){\n",
    "    \n",
    "    // the check will always be True\n",
    "    // ** ADD CODE HERE **\n",
    "    while (true){    \n",
    "        \n",
    "        // grab the first card\n",
    "        auto first_card = deck[0];\n",
    "        pop_front(deck);\n",
    "        \n",
    "        // put it on the bottom\n",
    "        deck.push_back(first_card);\n",
    "    }\n",
    "}"
   ]
  },
  {
   "cell_type": "code",
   "execution_count": null,
   "metadata": {},
   "outputs": [],
   "source": [
    "infinite_loop(deck)"
   ]
  },
  {
   "cell_type": "markdown",
   "metadata": {},
   "source": [
    "## 6. Draw cards until the sum of their values reaches (or passes) 21.   "
   ]
  },
  {
   "cell_type": "code",
   "execution_count": 14,
   "metadata": {},
   "outputs": [
    {
     "name": "stderr",
     "output_type": "stream",
     "text": [
      "input_line_18:1:5: error: redefinition of 'at_least_21'\n",
      "int at_least_21(vector<Card> deck){\n",
      "    ^\n",
      "input_line_17:1:5: note: previous definition is here\n",
      "int at_least_21(vector<Card> deck){\n",
      "    ^\n"
     ]
    },
    {
     "ename": "Interpreter Error",
     "evalue": "",
     "output_type": "error",
     "traceback": [
      "Interpreter Error: "
     ]
    }
   ],
   "source": [
    "int at_least_21(vector<Card> deck){\n",
    "    // set up counter\n",
    "    int counter = 0;\n",
    "    int index = 0;\n",
    "    // keep going if 21 has not been reached\n",
    "    // ** ADD CODE HERE **\n",
    "    while (counter<21){\n",
    "        //\n",
    "        Card card = deck[index];\n",
    "        counter += card.value;\n",
    "        index++;\n",
    "        // add its value to your counter (HINT: use card.value)\n",
    "        // ** ADD CODE HERE **\n",
    "    }\n",
    "    return index;\n",
    "}"
   ]
  },
  {
   "cell_type": "code",
   "execution_count": 15,
   "metadata": {},
   "outputs": [
    {
     "name": "stdout",
     "output_type": "stream",
     "text": [
      "6"
     ]
    }
   ],
   "source": [
    "cout << at_least_21(small_random_deck(10));"
   ]
  },
  {
   "cell_type": "markdown",
   "metadata": {},
   "source": [
    "## 7. Deal 5 cards to each of 3 players."
   ]
  },
  {
   "cell_type": "code",
   "execution_count": null,
   "metadata": {},
   "outputs": [],
   "source": []
  },
  {
   "cell_type": "markdown",
   "metadata": {},
   "source": [
    "## 8. CHALLENGE: The Game of War\n",
    "\n",
    "Two players each get a deck of card. They both flip the top card in their deck. Whosever card has the highest value (assume A=1, J=11, Q=12, K=13) adds both cards to the bottom of their deck. If the values are the same, set the cards aside. The game ends when one person is out of cards."
   ]
  },
  {
   "cell_type": "code",
   "execution_count": null,
   "metadata": {},
   "outputs": [],
   "source": []
  },
  {
   "cell_type": "code",
   "execution_count": null,
   "metadata": {},
   "outputs": [],
   "source": []
  }
 ],
 "metadata": {
  "kernelspec": {
   "display_name": "C++17",
   "language": "C++17",
   "name": "xcpp17"
  },
  "language_info": {
   "codemirror_mode": "text/x-c++src",
   "file_extension": ".cpp",
   "mimetype": "text/x-c++src",
   "name": "c++",
   "version": "-std=c++17"
  }
 },
 "nbformat": 4,
 "nbformat_minor": 2
}
